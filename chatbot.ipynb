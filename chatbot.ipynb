{
 "cells": [
  {
   "cell_type": "code",
   "execution_count": 2,
   "id": "82cdd13e",
   "metadata": {},
   "outputs": [],
   "source": [
    "#import re What is the use of import re in Python?\n",
    "# A regular expression (or RE) specifies a set of strings that matches it; \n",
    "# the functions in this module let you check if a particular string matches a \n",
    "# given regular expression (or if a given regular expression matches a particular string, which comes down to the same thing)."
   ]
  },
  {
   "cell_type": "code",
   "execution_count": 1,
   "id": "b590a2b3",
   "metadata": {},
   "outputs": [],
   "source": [
    "import re\n",
    "import random"
   ]
  },
  {
   "cell_type": "code",
   "execution_count": 2,
   "id": "231d8c47",
   "metadata": {},
   "outputs": [],
   "source": [
    "\n",
    "# Define the chatbot's rules and responses\n",
    "rules = {\n",
    "    'greeting': {\n",
    "        'patterns': [r'hello', r'hi', r'hey'],\n",
    "        'responses': ['Hello! Welcome to our food ordering service.', 'Hi there! How can I assist you with your order?']\n",
    "    },\n",
    "    'menu': {\n",
    "        'patterns': [r'menu', r'options'],\n",
    "        'responses': ['Sure! Here is our menu: ...\\n 1.Pav Bhaji \\n 2.Vada Pav \\n 3.Maggi \\n 4.Chai'],\n",
    "    },\n",
    "    'food items' : {\n",
    "        'patterns' : [r'Vada Pav',r'Pav Bhaji',r'Chai',r'Maggi' ],\n",
    "        'responses' : ['Do you want to confirm your order??'],\n",
    "    },\n",
    "    'order': {\n",
    "        'patterns': [r'order', r'I want to order'],\n",
    "        'responses': ['Great! Please let me know what items you would like to order.'],\n",
    "    },\n",
    "    'customization': {\n",
    "        'patterns': [r'customize', r'special request'],\n",
    "        'responses': ['Certainly! Let me know your specific requirements or any dietary restrictions.'],\n",
    "    },\n",
    "    'confirm_order': {\n",
    "        'patterns': [r'confirm', r'place order'],\n",
    "        'responses': ['Perfect! Your order has been placed. The estimated delivery time is approximately 30 minutes.'],\n",
    "    },\n",
    "    'gratitude' : {\n",
    "        'patterns' : [r'thank you'],\n",
    "        'responses' : ['My pleasure']\n",
    "    },\n",
    "    'cancel_order': {\n",
    "        'patterns': [r'cancel', r'change', r'update'],\n",
    "        'responses': ['I apologize for the inconvenience. Please contact our customer support for order modifications.'],\n",
    "    },\n",
    "    'goodbye': {\n",
    "        'patterns': [r'bye', r'goodbye', r'see you'],\n",
    "        'responses': ['Thank you for choosing our food ordering service.', 'Goodbye!'],\n",
    "    },\n",
    "    'default': {\n",
    "        'responses': ['Im sorry, I didnt understand that. Can you please rephrase?']\n",
    "    }\n",
    "}\n"
   ]
  },
  {
   "cell_type": "code",
   "execution_count": 3,
   "id": "d48fa56a",
   "metadata": {},
   "outputs": [
    {
     "name": "stdout",
     "output_type": "stream",
     "text": [
      "Chatbot: Hello! Welcome to our food ordering service.\n",
      "User: hi\n",
      "Chatbot: Hello! Welcome to our food ordering service.\n",
      "User: hey\n",
      "Chatbot: Hello! Welcome to our food ordering service.\n",
      "User: hello\n",
      "Chatbot: Hi there! How can I assist you with your order?\n",
      "User: menu\n",
      "Chatbot: Sure! Here is our menu: ...\n",
      " 1.Pav Bhaji \n",
      " 2.Vada Pav \n",
      " 3.Maggi \n",
      " 4.Chai\n",
      "User: options\n",
      "Chatbot: Sure! Here is our menu: ...\n",
      " 1.Pav Bhaji \n",
      " 2.Vada Pav \n",
      " 3.Maggi \n",
      " 4.Chai\n",
      "User: order\n",
      "Chatbot: Great! Please let me know what items you would like to order.\n",
      "User: Vada Pav\n",
      "Chatbot: Do you want to confirm your order??\n",
      "User: confirm\n",
      "Chatbot: Perfect! Your order has been placed. The estimated delivery time is approximately 30 minutes.\n",
      "User: cancel\n",
      "Chatbot: I apologize for the inconvenience. Please contact our customer support for order modifications.\n",
      "User: thank you\n",
      "Chatbot: My pleasure\n",
      "User: bye\n",
      "Chatbot: Thank you for choosing our food ordering service.\n"
     ]
    }
   ],
   "source": [
    "\n",
    "# Function to match user input with patterns\n",
    "def match_patterns(user_input, patterns):\n",
    "    for pattern in patterns:\n",
    "        match = re.search(pattern, user_input, re.IGNORECASE)\n",
    "        if match:\n",
    "            return True\n",
    "    return False\n",
    "\n",
    "# Function to get chatbot's response\n",
    "def get_response(user_input):\n",
    "    for intent, data in rules.items():\n",
    "        patterns = data.get('patterns')\n",
    "        if patterns and match_patterns(user_input, patterns):\n",
    "            responses = data.get('responses')\n",
    "            return random.choice(responses)\n",
    "    return random.choice(rules['default']['responses'])\n",
    "\n",
    "# Main conversation loop\n",
    "def chat():\n",
    "    print(\"Chatbot: Hello! Welcome to our food ordering service.\")\n",
    "    while True:\n",
    "        user_input = input(\"User: \")\n",
    "        response = get_response(user_input)\n",
    "        print(\"Chatbot:\", response)\n",
    "\n",
    "        # Exit the loop if the user says goodbye\n",
    "        if any(re.search(pattern, user_input) for pattern in rules['goodbye']['patterns']):\n",
    "            break\n",
    "\n",
    "# Start the chatbot\n",
    "chat()"
   ]
  },
  {
   "cell_type": "code",
   "execution_count": null,
   "id": "45bdfcae",
   "metadata": {},
   "outputs": [],
   "source": []
  },
  {
   "cell_type": "code",
   "execution_count": null,
   "id": "0e04b92e",
   "metadata": {},
   "outputs": [],
   "source": []
  },
  {
   "cell_type": "code",
   "execution_count": null,
   "id": "0e830367",
   "metadata": {},
   "outputs": [],
   "source": []
  }
 ],
 "metadata": {
  "kernelspec": {
   "display_name": "Python 3 (ipykernel)",
   "language": "python",
   "name": "python3"
  },
  "language_info": {
   "codemirror_mode": {
    "name": "ipython",
    "version": 3
   },
   "file_extension": ".py",
   "mimetype": "text/x-python",
   "name": "python",
   "nbconvert_exporter": "python",
   "pygments_lexer": "ipython3",
   "version": "3.10.2"
  }
 },
 "nbformat": 4,
 "nbformat_minor": 5
}
